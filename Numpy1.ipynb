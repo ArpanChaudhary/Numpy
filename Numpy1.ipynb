{
 "cells": [
  {
   "cell_type": "markdown",
   "id": "5ede050b",
   "metadata": {},
   "source": [
    "## Numpy Array "
   ]
  },
  {
   "cell_type": "code",
   "execution_count": 1,
   "id": "79065b31",
   "metadata": {},
   "outputs": [],
   "source": [
    "import numpy as np"
   ]
  },
  {
   "cell_type": "markdown",
   "id": "cfbe6e16",
   "metadata": {},
   "source": [
    "## Check Directory for Numpy"
   ]
  },
  {
   "cell_type": "code",
   "execution_count": 2,
   "id": "c3470eca",
   "metadata": {},
   "outputs": [],
   "source": [
    "# print(dir(np))"
   ]
  },
  {
   "cell_type": "code",
   "execution_count": null,
   "id": "c89b0e15",
   "metadata": {},
   "outputs": [],
   "source": []
  },
  {
   "cell_type": "code",
   "execution_count": 3,
   "id": "684baea8",
   "metadata": {},
   "outputs": [
    {
     "data": {
      "text/plain": [
       "3.4641016151377544"
      ]
     },
     "execution_count": 3,
     "metadata": {},
     "output_type": "execute_result"
    }
   ],
   "source": [
    "# square root of any number\n",
    "\n",
    "np.sqrt(12)"
   ]
  },
  {
   "cell_type": "code",
   "execution_count": 4,
   "id": "50698729",
   "metadata": {},
   "outputs": [
    {
     "data": {
      "text/plain": [
       "10.0"
      ]
     },
     "execution_count": 4,
     "metadata": {},
     "output_type": "execute_result"
    }
   ],
   "source": [
    "np.sqrt(100)"
   ]
  },
  {
   "cell_type": "code",
   "execution_count": 5,
   "id": "9dc98a03",
   "metadata": {},
   "outputs": [
    {
     "data": {
      "text/plain": [
       "35.2845575287547"
      ]
     },
     "execution_count": 5,
     "metadata": {},
     "output_type": "execute_result"
    }
   ],
   "source": [
    "np.sqrt(1245)"
   ]
  },
  {
   "cell_type": "code",
   "execution_count": null,
   "id": "1962829a",
   "metadata": {},
   "outputs": [],
   "source": []
  },
  {
   "cell_type": "code",
   "execution_count": null,
   "id": "9f6c5b2f",
   "metadata": {},
   "outputs": [],
   "source": []
  },
  {
   "cell_type": "code",
   "execution_count": 6,
   "id": "94b1bae1",
   "metadata": {},
   "outputs": [],
   "source": [
    "# Maximum number \n",
    "\n",
    "# Minimum Number"
   ]
  },
  {
   "cell_type": "code",
   "execution_count": 7,
   "id": "876752fb",
   "metadata": {},
   "outputs": [
    {
     "name": "stdout",
     "output_type": "stream",
     "text": [
      "Maximum:  5\n",
      "Minimum:  1\n"
     ]
    }
   ],
   "source": [
    "print(\"Maximum: \", np.max([1,2,3,4,5]))\n",
    "\n",
    "print(\"Minimum: \",np.min([1,2,3,4,5]))"
   ]
  },
  {
   "cell_type": "code",
   "execution_count": null,
   "id": "37bd506c",
   "metadata": {},
   "outputs": [],
   "source": []
  },
  {
   "cell_type": "code",
   "execution_count": 8,
   "id": "fbf307a6",
   "metadata": {},
   "outputs": [
    {
     "data": {
      "text/plain": [
       "26.0"
      ]
     },
     "execution_count": 8,
     "metadata": {},
     "output_type": "execute_result"
    }
   ],
   "source": [
    "# Rounding off the numbers\n",
    "\n",
    "np.ceil(25.4)"
   ]
  },
  {
   "cell_type": "code",
   "execution_count": 9,
   "id": "444b98ac",
   "metadata": {},
   "outputs": [
    {
     "data": {
      "text/plain": [
       "25.0"
      ]
     },
     "execution_count": 9,
     "metadata": {},
     "output_type": "execute_result"
    }
   ],
   "source": [
    "np.floor(25.4)"
   ]
  },
  {
   "cell_type": "code",
   "execution_count": null,
   "id": "c290b00e",
   "metadata": {},
   "outputs": [],
   "source": []
  },
  {
   "cell_type": "code",
   "execution_count": 10,
   "id": "6b1248ae",
   "metadata": {},
   "outputs": [
    {
     "data": {
      "text/plain": [
       "12.0"
      ]
     },
     "execution_count": 10,
     "metadata": {},
     "output_type": "execute_result"
    }
   ],
   "source": [
    "np.ceil(np.sqrt(121.4))"
   ]
  },
  {
   "cell_type": "code",
   "execution_count": null,
   "id": "bbe53e55",
   "metadata": {},
   "outputs": [],
   "source": []
  },
  {
   "cell_type": "markdown",
   "id": "f0ac1a40",
   "metadata": {},
   "source": [
    "## Similarly there are many functions, can be explored for knowledge purpose. But, in Data Science limited functions are used."
   ]
  },
  {
   "cell_type": "code",
   "execution_count": null,
   "id": "2f9e300f",
   "metadata": {},
   "outputs": [],
   "source": []
  },
  {
   "cell_type": "code",
   "execution_count": 11,
   "id": "7dc31ad1",
   "metadata": {},
   "outputs": [],
   "source": [
    "# Convert a list into an array"
   ]
  },
  {
   "cell_type": "code",
   "execution_count": 12,
   "id": "4cf2d473",
   "metadata": {},
   "outputs": [
    {
     "data": {
      "text/plain": [
       "array([1, 2, 3, 4, 5])"
      ]
     },
     "execution_count": 12,
     "metadata": {},
     "output_type": "execute_result"
    }
   ],
   "source": [
    "np.array([1,2,3,4,5])"
   ]
  },
  {
   "cell_type": "code",
   "execution_count": 13,
   "id": "47535b21",
   "metadata": {},
   "outputs": [
    {
     "data": {
      "text/plain": [
       "list"
      ]
     },
     "execution_count": 13,
     "metadata": {},
     "output_type": "execute_result"
    }
   ],
   "source": [
    "type([1,2,3,4,5])"
   ]
  },
  {
   "cell_type": "code",
   "execution_count": 14,
   "id": "700d05a3",
   "metadata": {},
   "outputs": [
    {
     "data": {
      "text/plain": [
       "numpy.ndarray"
      ]
     },
     "execution_count": 14,
     "metadata": {},
     "output_type": "execute_result"
    }
   ],
   "source": [
    "array1 = np.array([1,2,3,4,5])\n",
    "\n",
    "type(array1)"
   ]
  },
  {
   "cell_type": "code",
   "execution_count": null,
   "id": "56fbd34c",
   "metadata": {},
   "outputs": [],
   "source": []
  },
  {
   "cell_type": "code",
   "execution_count": 15,
   "id": "f5f7b1bf",
   "metadata": {},
   "outputs": [],
   "source": [
    "# Two Dimensional Array"
   ]
  },
  {
   "cell_type": "code",
   "execution_count": 16,
   "id": "45f976bb",
   "metadata": {},
   "outputs": [
    {
     "name": "stdout",
     "output_type": "stream",
     "text": [
      "Type:  int32\n",
      "\n",
      " ********************\n",
      "\n",
      " [[1 2]\n",
      " [3 4]\n",
      " [5 6]]\n"
     ]
    }
   ],
   "source": [
    "array2 = np.array([[1,2],[3,4],[5,6]])\n",
    "\n",
    "print('Type: ',array2.dtype)\n",
    "\n",
    "print('\\n', \"*\" * 20)\n",
    "\n",
    "print('\\n', array2)"
   ]
  },
  {
   "cell_type": "markdown",
   "id": "9aa1d42c",
   "metadata": {},
   "source": [
    "## If there are 2 square braces, then it is 2-D array."
   ]
  },
  {
   "cell_type": "code",
   "execution_count": null,
   "id": "5802ad1e",
   "metadata": {},
   "outputs": [],
   "source": []
  },
  {
   "cell_type": "code",
   "execution_count": 17,
   "id": "c5afb782",
   "metadata": {},
   "outputs": [
    {
     "data": {
      "text/plain": [
       "array([1., 2., 3., 4., 5.])"
      ]
     },
     "execution_count": 17,
     "metadata": {},
     "output_type": "execute_result"
    }
   ],
   "source": [
    "# DataType Conversion\n",
    "\n",
    "np.array([1,2,3,4,5], dtype=float)"
   ]
  },
  {
   "cell_type": "code",
   "execution_count": null,
   "id": "a884f14e",
   "metadata": {},
   "outputs": [],
   "source": []
  },
  {
   "cell_type": "code",
   "execution_count": 18,
   "id": "c9d0d8a3",
   "metadata": {},
   "outputs": [
    {
     "name": "stdout",
     "output_type": "stream",
     "text": [
      "[1 2 3 4]\n"
     ]
    }
   ],
   "source": [
    "# convert a list into array\n",
    "\n",
    "a = [1,2,3,4]\n",
    "\n",
    "array3 = np.array(a)\n",
    "\n",
    "print(array3)"
   ]
  },
  {
   "cell_type": "code",
   "execution_count": 19,
   "id": "3cedf0a6",
   "metadata": {},
   "outputs": [
    {
     "data": {
      "text/plain": [
       "numpy.ndarray"
      ]
     },
     "execution_count": 19,
     "metadata": {},
     "output_type": "execute_result"
    }
   ],
   "source": [
    "type(array3)"
   ]
  },
  {
   "cell_type": "code",
   "execution_count": null,
   "id": "343070c6",
   "metadata": {},
   "outputs": [],
   "source": []
  },
  {
   "cell_type": "code",
   "execution_count": 20,
   "id": "f2eb3290",
   "metadata": {},
   "outputs": [
    {
     "data": {
      "text/plain": [
       "numpy.ndarray"
      ]
     },
     "execution_count": 20,
     "metadata": {},
     "output_type": "execute_result"
    }
   ],
   "source": [
    "# Copy array into other\n",
    "\n",
    "array4 = np.asarray(array3)\n",
    "\n",
    "type(array4)"
   ]
  },
  {
   "cell_type": "code",
   "execution_count": null,
   "id": "4dabf999",
   "metadata": {},
   "outputs": [],
   "source": []
  },
  {
   "cell_type": "code",
   "execution_count": 21,
   "id": "791e036a",
   "metadata": {},
   "outputs": [
    {
     "name": "stdout",
     "output_type": "stream",
     "text": [
      "Type of the Matrix:  <class 'numpy.ndarray'>\n",
      "Here is the Matrix:  \n",
      " [[1 2 3]\n",
      " [4 5 6]\n",
      " [7 8 9]]\n",
      "Dimension of the matrix:  2\n",
      "Size of the matrix:  9\n",
      "Shape of the matrix:  (3, 3)\n",
      "DataType of the matrix:  int32\n"
     ]
    }
   ],
   "source": [
    "# creating matrix\n",
    "\n",
    "matrix1 = np.array([[1,2,3],[4,5,6],[7,8,9]])\n",
    "\n",
    "print(\"Type of the Matrix: \",type(matrix1))\n",
    "\n",
    "print(\"Here is the Matrix: \",'\\n',matrix1)\n",
    "\n",
    "print('Dimension of the matrix: ',matrix1.ndim)\n",
    "\n",
    "print('Size of the matrix: ',matrix1.size)\n",
    "\n",
    "print('Shape of the matrix: ',matrix1.shape)\n",
    "\n",
    "print('DataType of the matrix: ',matrix1.dtype)"
   ]
  },
  {
   "cell_type": "code",
   "execution_count": null,
   "id": "383ed41e",
   "metadata": {},
   "outputs": [],
   "source": []
  },
  {
   "cell_type": "markdown",
   "id": "226f3368",
   "metadata": {},
   "source": [
    "## arange and linspace"
   ]
  },
  {
   "cell_type": "code",
   "execution_count": 22,
   "id": "c141562e",
   "metadata": {},
   "outputs": [
    {
     "data": {
      "text/plain": [
       "[1, 2, 3, 4, 5, 6, 7, 8, 9]"
      ]
     },
     "execution_count": 22,
     "metadata": {},
     "output_type": "execute_result"
    }
   ],
   "source": [
    "# range function in python\n",
    "\n",
    "list(range(1,10))"
   ]
  },
  {
   "cell_type": "code",
   "execution_count": 23,
   "id": "dda718ff",
   "metadata": {},
   "outputs": [],
   "source": [
    "# range function does not work with float"
   ]
  },
  {
   "cell_type": "code",
   "execution_count": null,
   "id": "a0ee613a",
   "metadata": {},
   "outputs": [],
   "source": []
  },
  {
   "cell_type": "code",
   "execution_count": 24,
   "id": "e41b91b9",
   "metadata": {},
   "outputs": [
    {
     "data": {
      "text/plain": [
       "array([1, 2, 3, 4])"
      ]
     },
     "execution_count": 24,
     "metadata": {},
     "output_type": "execute_result"
    }
   ],
   "source": [
    "# range function in numpy\n",
    "\n",
    "range1 = np.arange(1,5)\n",
    "\n",
    "range1"
   ]
  },
  {
   "cell_type": "code",
   "execution_count": 25,
   "id": "56cf750d",
   "metadata": {},
   "outputs": [
    {
     "data": {
      "text/plain": [
       "array([1.5, 2.5, 3.5, 4.5])"
      ]
     },
     "execution_count": 25,
     "metadata": {},
     "output_type": "execute_result"
    }
   ],
   "source": [
    "range2 = np.arange(1.5,5.5)\n",
    "\n",
    "range2"
   ]
  },
  {
   "cell_type": "code",
   "execution_count": 26,
   "id": "1abe5108",
   "metadata": {},
   "outputs": [
    {
     "data": {
      "text/plain": [
       "array([2. , 4.5, 7. , 9.5])"
      ]
     },
     "execution_count": 26,
     "metadata": {},
     "output_type": "execute_result"
    }
   ],
   "source": [
    "# range with step size\n",
    "\n",
    "range3 = np.arange(2,12,2.5)\n",
    "\n",
    "range3\n",
    "\n",
    "# here 2.5 is step size"
   ]
  },
  {
   "cell_type": "code",
   "execution_count": 27,
   "id": "22a1ee03",
   "metadata": {},
   "outputs": [
    {
     "data": {
      "text/plain": [
       "array([ 5,  4,  3,  2,  1,  0, -1, -2, -3, -4, -5])"
      ]
     },
     "execution_count": 27,
     "metadata": {},
     "output_type": "execute_result"
    }
   ],
   "source": [
    "# in reverse order\n",
    "\n",
    "range4 = np.arange(5,-6,-1)\n",
    "\n",
    "range4"
   ]
  },
  {
   "cell_type": "code",
   "execution_count": null,
   "id": "0ff1f535",
   "metadata": {},
   "outputs": [],
   "source": []
  },
  {
   "cell_type": "code",
   "execution_count": null,
   "id": "c32b9e88",
   "metadata": {},
   "outputs": [],
   "source": []
  },
  {
   "cell_type": "code",
   "execution_count": 28,
   "id": "73252253",
   "metadata": {},
   "outputs": [
    {
     "data": {
      "text/plain": [
       "array([ 1. ,  5.5, 10. ])"
      ]
     },
     "execution_count": 28,
     "metadata": {},
     "output_type": "execute_result"
    }
   ],
   "source": [
    "# linspace\n",
    "\n",
    "# linspace means linearly spaced or equally spaced\n",
    "\n",
    "# in linspace last element is the elements we want to create not step size\n",
    "\n",
    "\n",
    "linspace1 = np.linspace(1,10,3)\n",
    "\n",
    "linspace1"
   ]
  },
  {
   "cell_type": "code",
   "execution_count": 29,
   "id": "65223024",
   "metadata": {},
   "outputs": [
    {
     "data": {
      "text/plain": [
       "array([10. , 17.5, 25. , 32.5, 40. ])"
      ]
     },
     "execution_count": 29,
     "metadata": {},
     "output_type": "execute_result"
    }
   ],
   "source": [
    "linspace2 = np.linspace(10,40,5)\n",
    "\n",
    "linspace2"
   ]
  },
  {
   "cell_type": "code",
   "execution_count": 30,
   "id": "2629cd19",
   "metadata": {},
   "outputs": [
    {
     "data": {
      "text/plain": [
       "(array([10. , 12.5, 15. , 17.5]), 2.5)"
      ]
     },
     "execution_count": 30,
     "metadata": {},
     "output_type": "execute_result"
    }
   ],
   "source": [
    "# we can ignore endpoint to print by using following command --\n",
    "\n",
    "linspace3 = np.linspace(10,20,num=4,endpoint=False,retstep=True)\n",
    "\n",
    "linspace3"
   ]
  },
  {
   "cell_type": "code",
   "execution_count": null,
   "id": "3f7a812b",
   "metadata": {},
   "outputs": [],
   "source": []
  },
  {
   "cell_type": "code",
   "execution_count": null,
   "id": "78551541",
   "metadata": {},
   "outputs": [],
   "source": []
  },
  {
   "cell_type": "markdown",
   "id": "ef3d483e",
   "metadata": {},
   "source": [
    "## Matrix Creation"
   ]
  },
  {
   "cell_type": "code",
   "execution_count": 31,
   "id": "12cd3efb",
   "metadata": {},
   "outputs": [
    {
     "name": "stdout",
     "output_type": "stream",
     "text": [
      "Vectors ----\n",
      "[0. 0. 0.]\n"
     ]
    }
   ],
   "source": [
    "# Vectors as it will create a single row\n",
    "\n",
    "print(\"Vectors ----\")\n",
    "\n",
    "print(np.zeros(3))"
   ]
  },
  {
   "cell_type": "code",
   "execution_count": 32,
   "id": "f06c85b3",
   "metadata": {},
   "outputs": [
    {
     "name": "stdout",
     "output_type": "stream",
     "text": [
      "Matrix ----\n",
      "[[0. 0. 0.]\n",
      " [0. 0. 0.]\n",
      " [0. 0. 0.]]\n"
     ]
    }
   ],
   "source": [
    "# Matrix (as it will create rows and columns)\n",
    "\n",
    "print('Matrix ----')\n",
    "\n",
    "print(np.zeros((3,3)))"
   ]
  },
  {
   "cell_type": "code",
   "execution_count": 33,
   "id": "180505a6",
   "metadata": {},
   "outputs": [
    {
     "name": "stdout",
     "output_type": "stream",
     "text": [
      "[[1. 1. 1. 1.]\n",
      " [1. 1. 1. 1.]\n",
      " [1. 1. 1. 1.]\n",
      " [1. 1. 1. 1.]]\n"
     ]
    }
   ],
   "source": [
    "print(np.ones((4,4)))"
   ]
  },
  {
   "cell_type": "code",
   "execution_count": 34,
   "id": "663b95c3",
   "metadata": {},
   "outputs": [
    {
     "name": "stdout",
     "output_type": "stream",
     "text": [
      "[[0. 0. 0. 0. 0. 0.]\n",
      " [0. 0. 0. 0. 0. 0.]\n",
      " [0. 0. 0. 0. 0. 0.]\n",
      " [0. 0. 0. 0. 0. 0.]]\n"
     ]
    }
   ],
   "source": [
    "print(np.zeros((4,6)))"
   ]
  },
  {
   "cell_type": "code",
   "execution_count": 35,
   "id": "f50c9032",
   "metadata": {},
   "outputs": [
    {
     "name": "stdout",
     "output_type": "stream",
     "text": [
      "[[1. 1. 1. 1. 1. 1.]\n",
      " [1. 1. 1. 1. 1. 1.]\n",
      " [1. 1. 1. 1. 1. 1.]]\n"
     ]
    }
   ],
   "source": [
    "print(np.ones((3,6)))"
   ]
  },
  {
   "cell_type": "code",
   "execution_count": 36,
   "id": "a8de53a3",
   "metadata": {},
   "outputs": [
    {
     "name": "stdout",
     "output_type": "stream",
     "text": [
      "[[10. 10. 10. 10. 10.]\n",
      " [10. 10. 10. 10. 10.]\n",
      " [10. 10. 10. 10. 10.]]\n"
     ]
    }
   ],
   "source": [
    "print(10 * np.ones((3,5)))"
   ]
  },
  {
   "cell_type": "code",
   "execution_count": 37,
   "id": "0737cc21",
   "metadata": {},
   "outputs": [
    {
     "name": "stdout",
     "output_type": "stream",
     "text": [
      "[[14. 14. 14. 14. 14. 14. 14.]\n",
      " [14. 14. 14. 14. 14. 14. 14.]\n",
      " [14. 14. 14. 14. 14. 14. 14.]]\n"
     ]
    }
   ],
   "source": [
    "print(14 * np.ones((3,7)))"
   ]
  },
  {
   "cell_type": "code",
   "execution_count": 38,
   "id": "5910d9e4",
   "metadata": {},
   "outputs": [
    {
     "data": {
      "text/plain": [
       "array([[ 0,  1,  2,  3,  4,  5,  6,  7],\n",
       "       [ 8,  9, 10, 11, 12, 13, 14, 15],\n",
       "       [16, 17, 18, 19, 20, 21, 22, 23],\n",
       "       [24, 25, 26, 27, 28, 29, 30, 31],\n",
       "       [32, 33, 34, 35, 36, 37, 38, 39]])"
      ]
     },
     "execution_count": 38,
     "metadata": {},
     "output_type": "execute_result"
    }
   ],
   "source": [
    "reshape1 = np.arange(40).reshape(5,8)\n",
    "\n",
    "reshape1"
   ]
  },
  {
   "cell_type": "code",
   "execution_count": 39,
   "id": "6ff7adb6",
   "metadata": {},
   "outputs": [],
   "source": [
    "# Reshape will be similar to the range given to generate the number\n",
    "\n",
    "# 40 = 5 * 8 or 8 * 5\n",
    "\n",
    "# 30 = 6 * 5 or 5 * 6"
   ]
  },
  {
   "cell_type": "code",
   "execution_count": null,
   "id": "8f5bdc28",
   "metadata": {},
   "outputs": [],
   "source": []
  },
  {
   "cell_type": "code",
   "execution_count": null,
   "id": "9bab7e84",
   "metadata": {},
   "outputs": [],
   "source": []
  },
  {
   "cell_type": "markdown",
   "id": "a56a1242",
   "metadata": {},
   "source": [
    "## Random Number Generation"
   ]
  },
  {
   "cell_type": "code",
   "execution_count": 40,
   "id": "de456484",
   "metadata": {},
   "outputs": [],
   "source": [
    "# .seed() means it generate same number on every execution\n",
    "\n",
    "# it works only in .rand() method"
   ]
  },
  {
   "cell_type": "code",
   "execution_count": 41,
   "id": "861bb095",
   "metadata": {},
   "outputs": [],
   "source": [
    "# rand generate int, float "
   ]
  },
  {
   "cell_type": "code",
   "execution_count": 42,
   "id": "9c47dec2",
   "metadata": {},
   "outputs": [
    {
     "name": "stdout",
     "output_type": "stream",
     "text": [
      "[0.71188546 0.50784777 0.10480397 0.51396231]\n"
     ]
    }
   ],
   "source": [
    "print(np.random.rand(4))"
   ]
  },
  {
   "cell_type": "code",
   "execution_count": 43,
   "id": "0c2e842c",
   "metadata": {},
   "outputs": [
    {
     "data": {
      "text/plain": [
       "array([[0.82412827, 0.99329014, 0.16742598, 0.11258549, 0.19693901],\n",
       "       [0.14521665, 0.74339364, 0.95719532, 0.44545455, 0.37586685]])"
      ]
     },
     "execution_count": 43,
     "metadata": {},
     "output_type": "execute_result"
    }
   ],
   "source": [
    "np.random.rand(2,5)"
   ]
  },
  {
   "cell_type": "code",
   "execution_count": 44,
   "id": "cff93680",
   "metadata": {},
   "outputs": [
    {
     "data": {
      "text/plain": [
       "array([[0.48118861, 0.00574617, 0.52344487, 0.74231322, 0.1320101 ],\n",
       "       [0.8678696 , 0.39484397, 0.53705358, 0.37562687, 0.82612369],\n",
       "       [0.99775551, 0.28847976, 0.86718025, 0.34517993, 0.24805062],\n",
       "       [0.04382657, 0.86929227, 0.10226411, 0.32623655, 0.58730009],\n",
       "       [0.28743462, 0.32557936, 0.0981543 , 0.12743442, 0.26299309]])"
      ]
     },
     "execution_count": 44,
     "metadata": {},
     "output_type": "execute_result"
    }
   ],
   "source": [
    "np.random.rand(5,5)"
   ]
  },
  {
   "cell_type": "code",
   "execution_count": null,
   "id": "bb3bc7a9",
   "metadata": {},
   "outputs": [],
   "source": []
  },
  {
   "cell_type": "code",
   "execution_count": 45,
   "id": "c57e3c3c",
   "metadata": {},
   "outputs": [],
   "source": [
    "# randn generate positive,negative int,float"
   ]
  },
  {
   "cell_type": "code",
   "execution_count": 46,
   "id": "7078fc4b",
   "metadata": {},
   "outputs": [
    {
     "data": {
      "text/plain": [
       "array([ 0.60774759,  1.550798  , -0.37794292, -0.47667942, -1.20864603])"
      ]
     },
     "execution_count": 46,
     "metadata": {},
     "output_type": "execute_result"
    }
   ],
   "source": [
    "np.random.randn(5)"
   ]
  },
  {
   "cell_type": "code",
   "execution_count": 47,
   "id": "a46d454d",
   "metadata": {},
   "outputs": [
    {
     "data": {
      "text/plain": [
       "array([[ 8.66762358e-01, -5.57225269e-01, -9.06891432e-01,\n",
       "        -6.03931886e-01],\n",
       "       [-6.79356505e-01,  5.52212272e-01,  1.00388746e+00,\n",
       "        -2.84387319e-01],\n",
       "       [-1.02920591e+00, -1.91347589e+00, -1.20722050e+00,\n",
       "         1.11181816e-03],\n",
       "       [-3.92328020e-01, -1.51708166e+00, -1.63116352e+00,\n",
       "         8.80932089e-01]])"
      ]
     },
     "execution_count": 47,
     "metadata": {},
     "output_type": "execute_result"
    }
   ],
   "source": [
    "np.random.randn(4,4)"
   ]
  },
  {
   "cell_type": "code",
   "execution_count": 48,
   "id": "c73d0b6c",
   "metadata": {},
   "outputs": [
    {
     "data": {
      "text/plain": [
       "array([[ 0.87260514, -0.19390567, -0.55577998,  1.27132503, -0.26562248],\n",
       "       [-0.32713323, -0.28209145, -1.02769546, -1.58583335,  0.75161719],\n",
       "       [ 0.04850344, -1.88654651, -1.19503441,  0.51025258, -1.02468501],\n",
       "       [-0.01464013, -0.89421802,  0.49865671, -0.3657798 ,  1.52667689],\n",
       "       [ 1.64319395,  0.99452636, -0.89905711,  2.50751136, -0.47609608]])"
      ]
     },
     "execution_count": 48,
     "metadata": {},
     "output_type": "execute_result"
    }
   ],
   "source": [
    "np.random.randn(5,5)"
   ]
  },
  {
   "cell_type": "code",
   "execution_count": null,
   "id": "60d618d5",
   "metadata": {},
   "outputs": [],
   "source": []
  },
  {
   "cell_type": "code",
   "execution_count": 49,
   "id": "42892ea8",
   "metadata": {},
   "outputs": [],
   "source": [
    "# randint generate complete int number"
   ]
  },
  {
   "cell_type": "code",
   "execution_count": 50,
   "id": "23114164",
   "metadata": {},
   "outputs": [
    {
     "data": {
      "text/plain": [
       "3"
      ]
     },
     "execution_count": 50,
     "metadata": {},
     "output_type": "execute_result"
    }
   ],
   "source": [
    "np.random.randint(5)"
   ]
  },
  {
   "cell_type": "code",
   "execution_count": 51,
   "id": "ffbdb8be",
   "metadata": {},
   "outputs": [
    {
     "data": {
      "text/plain": [
       "array([5, 5, 5])"
      ]
     },
     "execution_count": 51,
     "metadata": {},
     "output_type": "execute_result"
    }
   ],
   "source": [
    "# last element is the numnber we want to print not a step size\n",
    "\n",
    "np.random.randint(2,6,3)"
   ]
  },
  {
   "cell_type": "code",
   "execution_count": 52,
   "id": "c7f092f6",
   "metadata": {},
   "outputs": [
    {
     "data": {
      "text/plain": [
       "array([61])"
      ]
     },
     "execution_count": 52,
     "metadata": {},
     "output_type": "execute_result"
    }
   ],
   "source": [
    "np.random.randint(1,100,1)"
   ]
  },
  {
   "cell_type": "code",
   "execution_count": 53,
   "id": "009eebe1",
   "metadata": {},
   "outputs": [
    {
     "data": {
      "text/plain": [
       "array([[75, 51, 24, 23, 49],\n",
       "       [33, 48, 39, 82, 86],\n",
       "       [22, 81, 75, 74, 70],\n",
       "       [95, 95, 73, 67, 96],\n",
       "       [50, 59, 47, 60, 83]])"
      ]
     },
     "execution_count": 53,
     "metadata": {},
     "output_type": "execute_result"
    }
   ],
   "source": [
    "np.random.randint(2,100,(5,5))"
   ]
  },
  {
   "cell_type": "code",
   "execution_count": null,
   "id": "e5edd88c",
   "metadata": {},
   "outputs": [],
   "source": []
  },
  {
   "cell_type": "markdown",
   "id": "9c68fc06",
   "metadata": {},
   "source": [
    "## A Simple program for generate OTP"
   ]
  },
  {
   "cell_type": "code",
   "execution_count": 54,
   "id": "7a7c9ebc",
   "metadata": {},
   "outputs": [
    {
     "name": "stdout",
     "output_type": "stream",
     "text": [
      "Your otp is:  [5692]\n",
      "Enter otp: 5692\n",
      "Otp matched-- Thanks\n"
     ]
    }
   ],
   "source": [
    "import numpy as np\n",
    "\n",
    "def generate_otp():\n",
    "    otp1 = np.random.randint(1000,9999,1)\n",
    "    print(\"Your otp is: \",otp1)\n",
    "    \n",
    "    user_otp = int(input(\"Enter otp: \"))\n",
    "    if otp1 == user_otp:\n",
    "        print(\"Otp matched-- Thanks\")\n",
    "    else:\n",
    "        print(\"Wrong Otp\")\n",
    "        \n",
    "generate_otp()"
   ]
  },
  {
   "cell_type": "code",
   "execution_count": null,
   "id": "a23640fa",
   "metadata": {},
   "outputs": [],
   "source": []
  }
 ],
 "metadata": {
  "kernelspec": {
   "display_name": "Python 3 (ipykernel)",
   "language": "python",
   "name": "python3"
  },
  "language_info": {
   "codemirror_mode": {
    "name": "ipython",
    "version": 3
   },
   "file_extension": ".py",
   "mimetype": "text/x-python",
   "name": "python",
   "nbconvert_exporter": "python",
   "pygments_lexer": "ipython3",
   "version": "3.11.4"
  }
 },
 "nbformat": 4,
 "nbformat_minor": 5
}
