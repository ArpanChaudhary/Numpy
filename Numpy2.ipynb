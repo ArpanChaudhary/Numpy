{
  "nbformat": 4,
  "nbformat_minor": 0,
  "metadata": {
    "colab": {
      "provenance": [],
      "gpuType": "V28",
      "authorship_tag": "ABX9TyM0DQ/eOERUvp5eG9+YoHgS",
      "include_colab_link": true
    },
    "kernelspec": {
      "name": "python3",
      "display_name": "Python 3"
    },
    "language_info": {
      "name": "python"
    },
    "accelerator": "TPU"
  },
  "cells": [
    {
      "cell_type": "markdown",
      "metadata": {
        "id": "view-in-github",
        "colab_type": "text"
      },
      "source": [
        "<a href=\"https://colab.research.google.com/github/ArpanChaudhary/Numpy/blob/main/Numpy2.ipynb\" target=\"_parent\"><img src=\"https://colab.research.google.com/assets/colab-badge.svg\" alt=\"Open In Colab\"/></a>"
      ]
    },
    {
      "cell_type": "code",
      "source": [],
      "metadata": {
        "id": "rDcB3DbUBsZW"
      },
      "execution_count": 112,
      "outputs": []
    },
    {
      "cell_type": "code",
      "source": [
        "import numpy as np"
      ],
      "metadata": {
        "id": "FQKI-MbQB7Jj"
      },
      "execution_count": 113,
      "outputs": []
    },
    {
      "cell_type": "markdown",
      "source": [
        "# **Numpy Condition**"
      ],
      "metadata": {
        "id": "r9MgaH0PB97G"
      }
    },
    {
      "cell_type": "code",
      "source": [
        "# Generate random number"
      ],
      "metadata": {
        "id": "SYmD3TLJCGgY"
      },
      "execution_count": 114,
      "outputs": []
    },
    {
      "cell_type": "code",
      "source": [
        "numbers = np.random.randint(15,70,10)\n",
        "\n",
        "numbers"
      ],
      "metadata": {
        "colab": {
          "base_uri": "https://localhost:8080/"
        },
        "id": "CpPfYxzCCxws",
        "outputId": "ea41c220-094b-4c68-94cf-4e347676300d"
      },
      "execution_count": 115,
      "outputs": [
        {
          "output_type": "execute_result",
          "data": {
            "text/plain": [
              "array([52, 68, 16, 52, 50, 29, 67, 60, 17, 55])"
            ]
          },
          "metadata": {},
          "execution_count": 115
        }
      ]
    },
    {
      "cell_type": "code",
      "source": [
        "# Set minimum and maximum numbers according to your choice"
      ],
      "metadata": {
        "id": "H6nU6pu4C9n9"
      },
      "execution_count": 116,
      "outputs": []
    },
    {
      "cell_type": "code",
      "source": [
        "np.clip(numbers, a_min=25, a_max=65)"
      ],
      "metadata": {
        "colab": {
          "base_uri": "https://localhost:8080/"
        },
        "id": "tNVl5BKzDDpG",
        "outputId": "ece5dc4f-5650-4edd-a3b8-0cda0ce90b0a"
      },
      "execution_count": 117,
      "outputs": [
        {
          "output_type": "execute_result",
          "data": {
            "text/plain": [
              "array([52, 65, 25, 52, 50, 29, 65, 60, 25, 55])"
            ]
          },
          "metadata": {},
          "execution_count": 117
        }
      ]
    },
    {
      "cell_type": "code",
      "source": [
        "# where condition"
      ],
      "metadata": {
        "id": "nEo-yqP9DL1b"
      },
      "execution_count": 118,
      "outputs": []
    },
    {
      "cell_type": "code",
      "source": [
        "np.where(numbers < 45)"
      ],
      "metadata": {
        "colab": {
          "base_uri": "https://localhost:8080/"
        },
        "id": "8tRYClH4DU1r",
        "outputId": "723ca2aa-6bb5-450e-c557-39a677933041"
      },
      "execution_count": 119,
      "outputs": [
        {
          "output_type": "execute_result",
          "data": {
            "text/plain": [
              "(array([2, 5, 8]),)"
            ]
          },
          "metadata": {},
          "execution_count": 119
        }
      ]
    },
    {
      "cell_type": "code",
      "source": [
        "# if we want to see actual data, use index"
      ],
      "metadata": {
        "id": "y8r5jUPPDsrT"
      },
      "execution_count": 120,
      "outputs": []
    },
    {
      "cell_type": "code",
      "source": [
        "numbers[[1,5]]"
      ],
      "metadata": {
        "colab": {
          "base_uri": "https://localhost:8080/"
        },
        "id": "PDoxgRtuEEDd",
        "outputId": "c68d08ba-e176-4878-9573-c9e57e7c1f40"
      },
      "execution_count": 121,
      "outputs": [
        {
          "output_type": "execute_result",
          "data": {
            "text/plain": [
              "array([68, 29])"
            ]
          },
          "metadata": {},
          "execution_count": 121
        }
      ]
    },
    {
      "cell_type": "code",
      "source": [],
      "metadata": {
        "id": "q9WP-WqgESHG"
      },
      "execution_count": 121,
      "outputs": []
    },
    {
      "cell_type": "markdown",
      "source": [
        "# **Reshaping Other ways**"
      ],
      "metadata": {
        "id": "yUkZ7-I4ETXY"
      }
    },
    {
      "cell_type": "code",
      "source": [
        "from numpy.random import randint as ri"
      ],
      "metadata": {
        "id": "A03_n0kYEY2Q"
      },
      "execution_count": 122,
      "outputs": []
    },
    {
      "cell_type": "code",
      "source": [
        "num = ri(10,90,30)"
      ],
      "metadata": {
        "id": "hbSu5Rz0Ee_G"
      },
      "execution_count": 123,
      "outputs": []
    },
    {
      "cell_type": "code",
      "source": [
        "# reshaping according our way"
      ],
      "metadata": {
        "id": "fEiiU0icEkRx"
      },
      "execution_count": 124,
      "outputs": []
    },
    {
      "cell_type": "code",
      "source": [
        "# here 2 means that there will be 2 matrix of shape(3,5)\n",
        "\n",
        "num1 = num.reshape(2,3,5)\n",
        "\n",
        "num1"
      ],
      "metadata": {
        "colab": {
          "base_uri": "https://localhost:8080/"
        },
        "id": "-1wxUPLBEpZu",
        "outputId": "6929608c-844a-4e8e-b3a1-cb0ba69dbb6b"
      },
      "execution_count": 125,
      "outputs": [
        {
          "output_type": "execute_result",
          "data": {
            "text/plain": [
              "array([[[69, 54, 11, 73, 16],\n",
              "        [33, 68, 14, 88, 18],\n",
              "        [32, 32, 75, 47, 62]],\n",
              "\n",
              "       [[63, 82, 55, 61, 61],\n",
              "        [24, 60, 39, 79, 50],\n",
              "        [24, 71, 14, 78, 43]]])"
            ]
          },
          "metadata": {},
          "execution_count": 125
        }
      ]
    },
    {
      "cell_type": "code",
      "source": [
        "num2 = num.reshape(5,6)\n",
        "\n",
        "num2"
      ],
      "metadata": {
        "colab": {
          "base_uri": "https://localhost:8080/"
        },
        "id": "mFNBKBIlExSR",
        "outputId": "7f6ac9e6-62d0-47b5-b057-a31d428d485a"
      },
      "execution_count": 126,
      "outputs": [
        {
          "output_type": "execute_result",
          "data": {
            "text/plain": [
              "array([[69, 54, 11, 73, 16, 33],\n",
              "       [68, 14, 88, 18, 32, 32],\n",
              "       [75, 47, 62, 63, 82, 55],\n",
              "       [61, 61, 24, 60, 39, 79],\n",
              "       [50, 24, 71, 14, 78, 43]])"
            ]
          },
          "metadata": {},
          "execution_count": 126
        }
      ]
    },
    {
      "cell_type": "code",
      "source": [
        "num3 = num.reshape(6,5)\n",
        "\n",
        "num3"
      ],
      "metadata": {
        "colab": {
          "base_uri": "https://localhost:8080/"
        },
        "id": "Nci2PzhJFFeH",
        "outputId": "b2a3c6d1-c09c-4449-9090-c6af3077f6d3"
      },
      "execution_count": 127,
      "outputs": [
        {
          "output_type": "execute_result",
          "data": {
            "text/plain": [
              "array([[69, 54, 11, 73, 16],\n",
              "       [33, 68, 14, 88, 18],\n",
              "       [32, 32, 75, 47, 62],\n",
              "       [63, 82, 55, 61, 61],\n",
              "       [24, 60, 39, 79, 50],\n",
              "       [24, 71, 14, 78, 43]])"
            ]
          },
          "metadata": {},
          "execution_count": 127
        }
      ]
    },
    {
      "cell_type": "code",
      "source": [
        "# finding the minimum number in matrix\n",
        "\n",
        "print(\"Minimum number in matrix: \", num3.min())"
      ],
      "metadata": {
        "colab": {
          "base_uri": "https://localhost:8080/"
        },
        "id": "vVvbKoNzFKIf",
        "outputId": "7784bda4-c026-4764-d5bd-5f1651ca5678"
      },
      "execution_count": 128,
      "outputs": [
        {
          "output_type": "stream",
          "name": "stdout",
          "text": [
            "Minimum number in matrix:  11\n"
          ]
        }
      ]
    },
    {
      "cell_type": "code",
      "source": [
        "# finding the maximum number in matrix\n",
        "\n",
        "print(\"Maximum number in matrix: \", num3.max())"
      ],
      "metadata": {
        "colab": {
          "base_uri": "https://localhost:8080/"
        },
        "id": "DtQViSUXFPZ5",
        "outputId": "8627ff53-3782-4730-e3ad-92c759e9903a"
      },
      "execution_count": 129,
      "outputs": [
        {
          "output_type": "stream",
          "name": "stdout",
          "text": [
            "Maximum number in matrix:  88\n"
          ]
        }
      ]
    },
    {
      "cell_type": "code",
      "source": [
        "# finding average\n",
        "\n",
        "np.mean(num3)"
      ],
      "metadata": {
        "colab": {
          "base_uri": "https://localhost:8080/"
        },
        "id": "J_49UZ5MFbWV",
        "outputId": "7b3f90ce-25d8-4a6d-eef9-c85d84f96c45"
      },
      "execution_count": 130,
      "outputs": [
        {
          "output_type": "execute_result",
          "data": {
            "text/plain": [
              "49.86666666666667"
            ]
          },
          "metadata": {},
          "execution_count": 130
        }
      ]
    },
    {
      "cell_type": "code",
      "source": [],
      "metadata": {
        "id": "3ZpFKEQxFf0m"
      },
      "execution_count": 130,
      "outputs": []
    },
    {
      "cell_type": "markdown",
      "source": [
        "# **Sorting**"
      ],
      "metadata": {
        "id": "9jA-4xqVFmlQ"
      }
    },
    {
      "cell_type": "code",
      "source": [
        "num4 = ri(10,100,20).reshape(5,4)\n",
        "\n",
        "num4"
      ],
      "metadata": {
        "colab": {
          "base_uri": "https://localhost:8080/"
        },
        "id": "Upz5ROZjFpRc",
        "outputId": "0ddd6a1d-4b63-400b-972a-5b6ef54f3c65"
      },
      "execution_count": 131,
      "outputs": [
        {
          "output_type": "execute_result",
          "data": {
            "text/plain": [
              "array([[30, 57, 43, 29],\n",
              "       [51, 63, 30, 43],\n",
              "       [23, 13, 17, 59],\n",
              "       [29, 22, 58, 62],\n",
              "       [73, 64, 97, 61]])"
            ]
          },
          "metadata": {},
          "execution_count": 131
        }
      ]
    },
    {
      "cell_type": "code",
      "source": [
        "# sorting matrix row_wise\n",
        "# by default axis =1\n",
        "\n",
        "np.sort(num4)"
      ],
      "metadata": {
        "colab": {
          "base_uri": "https://localhost:8080/"
        },
        "id": "KQpL2g6gF0pY",
        "outputId": "3666c9ab-0c5a-4bd6-dfbf-8b11e27f2f34"
      },
      "execution_count": 132,
      "outputs": [
        {
          "output_type": "execute_result",
          "data": {
            "text/plain": [
              "array([[29, 30, 43, 57],\n",
              "       [30, 43, 51, 63],\n",
              "       [13, 17, 23, 59],\n",
              "       [22, 29, 58, 62],\n",
              "       [61, 64, 73, 97]])"
            ]
          },
          "metadata": {},
          "execution_count": 132
        }
      ]
    },
    {
      "cell_type": "code",
      "source": [
        "# sorting matrix column_wise\n",
        "# taking axis = 0\n",
        "\n",
        "np.sort(num4, axis=0)"
      ],
      "metadata": {
        "colab": {
          "base_uri": "https://localhost:8080/"
        },
        "id": "eqMtPKe_F-0E",
        "outputId": "baa37160-4238-4934-eebd-8c6f85cae680"
      },
      "execution_count": 133,
      "outputs": [
        {
          "output_type": "execute_result",
          "data": {
            "text/plain": [
              "array([[23, 13, 17, 29],\n",
              "       [29, 22, 30, 43],\n",
              "       [30, 57, 43, 59],\n",
              "       [51, 63, 58, 61],\n",
              "       [73, 64, 97, 62]])"
            ]
          },
          "metadata": {},
          "execution_count": 133
        }
      ]
    },
    {
      "cell_type": "code",
      "source": [],
      "metadata": {
        "id": "S7ZKi_ziGI1t"
      },
      "execution_count": 133,
      "outputs": []
    },
    {
      "cell_type": "markdown",
      "source": [
        "# **Indexing and Slicing**"
      ],
      "metadata": {
        "id": "zotlU4-yGbdd"
      }
    },
    {
      "cell_type": "code",
      "source": [
        "arr = np.arange(10,30)\n",
        "\n",
        "arr"
      ],
      "metadata": {
        "colab": {
          "base_uri": "https://localhost:8080/"
        },
        "id": "EJGA_NhKGgV-",
        "outputId": "60046e39-2336-470f-b5d9-6ff1374affd0"
      },
      "execution_count": 134,
      "outputs": [
        {
          "output_type": "execute_result",
          "data": {
            "text/plain": [
              "array([10, 11, 12, 13, 14, 15, 16, 17, 18, 19, 20, 21, 22, 23, 24, 25, 26,\n",
              "       27, 28, 29])"
            ]
          },
          "metadata": {},
          "execution_count": 134
        }
      ]
    },
    {
      "cell_type": "code",
      "source": [
        "print(\"Element at 5 index:\",arr[5])"
      ],
      "metadata": {
        "colab": {
          "base_uri": "https://localhost:8080/"
        },
        "id": "l4SuSSRCVucw",
        "outputId": "94ba3e74-517e-450f-81ed-53db91590cb3"
      },
      "execution_count": 135,
      "outputs": [
        {
          "output_type": "stream",
          "name": "stdout",
          "text": [
            "Element at 5 index: 15\n"
          ]
        }
      ]
    },
    {
      "cell_type": "code",
      "source": [
        "print(\"Element at 10 index:\",arr[10])"
      ],
      "metadata": {
        "colab": {
          "base_uri": "https://localhost:8080/"
        },
        "id": "EBNRQ82fV0ro",
        "outputId": "185513d8-c2ee-43e0-ece7-2da0de08e05b"
      },
      "execution_count": 136,
      "outputs": [
        {
          "output_type": "stream",
          "name": "stdout",
          "text": [
            "Element at 10 index: 20\n"
          ]
        }
      ]
    },
    {
      "cell_type": "code",
      "source": [
        "print(\"Element after 7 index:\",arr[7:])"
      ],
      "metadata": {
        "colab": {
          "base_uri": "https://localhost:8080/"
        },
        "id": "XpoIlZi_V504",
        "outputId": "8d543a9c-1402-4fb9-d32e-55205f0b59ce"
      },
      "execution_count": 137,
      "outputs": [
        {
          "output_type": "stream",
          "name": "stdout",
          "text": [
            "Element after 7 index: [17 18 19 20 21 22 23 24 25 26 27 28 29]\n"
          ]
        }
      ]
    },
    {
      "cell_type": "code",
      "source": [
        "# Indexing from backwards"
      ],
      "metadata": {
        "id": "jQlCKPJnWKZ3"
      },
      "execution_count": 138,
      "outputs": []
    },
    {
      "cell_type": "code",
      "source": [
        "print(arr)\n",
        "\n",
        "print(arr[::-1])"
      ],
      "metadata": {
        "colab": {
          "base_uri": "https://localhost:8080/"
        },
        "id": "oYCMhAdsYhRz",
        "outputId": "cbc43a7e-0c3d-4fb9-c553-17ac607333fb"
      },
      "execution_count": 139,
      "outputs": [
        {
          "output_type": "stream",
          "name": "stdout",
          "text": [
            "[10 11 12 13 14 15 16 17 18 19 20 21 22 23 24 25 26 27 28 29]\n",
            "[29 28 27 26 25 24 23 22 21 20 19 18 17 16 15 14 13 12 11 10]\n"
          ]
        }
      ]
    },
    {
      "cell_type": "code",
      "source": [
        "# if we want to fetch from backwards by skipping one step\n",
        "\n",
        "print(arr[::-2])"
      ],
      "metadata": {
        "colab": {
          "base_uri": "https://localhost:8080/"
        },
        "id": "ltBpN5IMYp_k",
        "outputId": "dd9be490-8a29-47ba-ce68-9cb661e3dad2"
      },
      "execution_count": 140,
      "outputs": [
        {
          "output_type": "stream",
          "name": "stdout",
          "text": [
            "[29 27 25 23 21 19 17 15 13 11]\n"
          ]
        }
      ]
    },
    {
      "cell_type": "code",
      "source": [
        "# if we want to fetch data from dedicated index, then pass the index number as a list\n",
        "\n",
        "print(\"Element at the 2, 4 8 index:\",arr[[2,4,8]])"
      ],
      "metadata": {
        "colab": {
          "base_uri": "https://localhost:8080/"
        },
        "id": "K-dZor5xZhTN",
        "outputId": "7278c27f-f34b-40b7-a7a2-255777a7630f"
      },
      "execution_count": 141,
      "outputs": [
        {
          "output_type": "stream",
          "name": "stdout",
          "text": [
            "Element at the 2, 4 8 index: [12 14 18]\n"
          ]
        }
      ]
    },
    {
      "cell_type": "code",
      "source": [],
      "metadata": {
        "id": "ESUAmfOFZhbp"
      },
      "execution_count": 141,
      "outputs": []
    },
    {
      "cell_type": "code",
      "source": [
        "# slicing the data\n",
        "\n",
        "sliced_data = arr[1:5]\n",
        "\n",
        "sliced_data"
      ],
      "metadata": {
        "colab": {
          "base_uri": "https://localhost:8080/"
        },
        "id": "KqA99Z52Y7fY",
        "outputId": "8d24620e-6081-4445-9b5c-1a5e6ff9c694"
      },
      "execution_count": 142,
      "outputs": [
        {
          "output_type": "execute_result",
          "data": {
            "text/plain": [
              "array([11, 12, 13, 14])"
            ]
          },
          "metadata": {},
          "execution_count": 142
        }
      ]
    },
    {
      "cell_type": "code",
      "source": [],
      "metadata": {
        "id": "KIrOmMSnbiGU"
      },
      "execution_count": 142,
      "outputs": []
    },
    {
      "cell_type": "code",
      "source": [
        "# Matrix"
      ],
      "metadata": {
        "id": "CCaO1gxqZIc4"
      },
      "execution_count": 143,
      "outputs": []
    },
    {
      "cell_type": "code",
      "source": [
        "my_mat = [[1,2,3],[4,5,6],[7,8,9]]\n",
        "\n",
        "my_mat = np.array(my_mat)\n",
        "\n",
        "my_mat"
      ],
      "metadata": {
        "colab": {
          "base_uri": "https://localhost:8080/"
        },
        "id": "_4epmQyNbkg3",
        "outputId": "9ca6878f-1036-489b-b222-5a895b1cfb34"
      },
      "execution_count": 144,
      "outputs": [
        {
          "output_type": "execute_result",
          "data": {
            "text/plain": [
              "array([[1, 2, 3],\n",
              "       [4, 5, 6],\n",
              "       [7, 8, 9]])"
            ]
          },
          "metadata": {},
          "execution_count": 144
        }
      ]
    },
    {
      "cell_type": "code",
      "source": [
        "# for indexing in the matrix\n",
        "\n",
        "# matrix_name[][]\n",
        "\n",
        "# in first square braces is taken as row,\n",
        "# then in second braces is for element_index we want to fetch\n",
        "\n",
        "# matrix_name[,][]\n",
        "\n",
        "# first square braces taken as [row,column]\n",
        "# second square braces taken as [element_index]"
      ],
      "metadata": {
        "id": "fw2EZmISbxaW"
      },
      "execution_count": 145,
      "outputs": []
    },
    {
      "cell_type": "code",
      "source": [
        "print(\"Entire row at index 2:\", my_mat[2])"
      ],
      "metadata": {
        "id": "bZ3G-7c6dUJ_",
        "colab": {
          "base_uri": "https://localhost:8080/"
        },
        "outputId": "66be8fc5-4688-464c-a897-08dbef6a85a6"
      },
      "execution_count": 146,
      "outputs": [
        {
          "output_type": "stream",
          "name": "stdout",
          "text": [
            "Entire row at index 2: [7 8 9]\n"
          ]
        }
      ]
    },
    {
      "cell_type": "code",
      "source": [
        "print(\"Entire column at index 2:\", my_mat[:,2])"
      ],
      "metadata": {
        "colab": {
          "base_uri": "https://localhost:8080/"
        },
        "id": "0tH_84SnrVDu",
        "outputId": "ba034eb9-9bef-43d0-b494-dc4b5b94363f"
      },
      "execution_count": 147,
      "outputs": [
        {
          "output_type": "stream",
          "name": "stdout",
          "text": [
            "Entire column at index 2: [3 6 9]\n"
          ]
        }
      ]
    },
    {
      "cell_type": "code",
      "source": [
        "print(\"Entire column after index 1:\", my_mat[:,1:])"
      ],
      "metadata": {
        "colab": {
          "base_uri": "https://localhost:8080/"
        },
        "id": "3SJeaijGrfU1",
        "outputId": "e91b9529-5a09-43c3-eee3-b3d9cb2d0555"
      },
      "execution_count": 148,
      "outputs": [
        {
          "output_type": "stream",
          "name": "stdout",
          "text": [
            "Entire column after index 1: [[2 3]\n",
            " [5 6]\n",
            " [8 9]]\n"
          ]
        }
      ]
    },
    {
      "cell_type": "code",
      "source": [
        "print(my_mat[1:2,1:2])"
      ],
      "metadata": {
        "colab": {
          "base_uri": "https://localhost:8080/"
        },
        "id": "rHeMDXObr4Tr",
        "outputId": "70d48699-8500-45e5-d47e-251910bd56d9"
      },
      "execution_count": 149,
      "outputs": [
        {
          "output_type": "stream",
          "name": "stdout",
          "text": [
            "[[5]]\n"
          ]
        }
      ]
    },
    {
      "cell_type": "code",
      "source": [
        "print(my_mat[0:2,[1,2]])"
      ],
      "metadata": {
        "colab": {
          "base_uri": "https://localhost:8080/"
        },
        "id": "HK-7ZKATsVfF",
        "outputId": "f66f854e-72d0-4c9f-f81f-8f0893fe6e1e"
      },
      "execution_count": 150,
      "outputs": [
        {
          "output_type": "stream",
          "name": "stdout",
          "text": [
            "[[2 3]\n",
            " [5 6]]\n"
          ]
        }
      ]
    },
    {
      "cell_type": "code",
      "source": [],
      "metadata": {
        "id": "oPnV5cOgslP2"
      },
      "execution_count": 150,
      "outputs": []
    },
    {
      "cell_type": "markdown",
      "source": [
        "## Updating Matrix"
      ],
      "metadata": {
        "id": "aqgsg8emtrfO"
      }
    },
    {
      "cell_type": "code",
      "source": [
        "print(\"Original Matrix:\\n\", my_mat)"
      ],
      "metadata": {
        "colab": {
          "base_uri": "https://localhost:8080/"
        },
        "id": "FOrqvt1Ktt3I",
        "outputId": "7175f9fb-02f4-4501-fac4-c7249512a742"
      },
      "execution_count": 151,
      "outputs": [
        {
          "output_type": "stream",
          "name": "stdout",
          "text": [
            "Original Matrix:\n",
            " [[1 2 3]\n",
            " [4 5 6]\n",
            " [7 8 9]]\n"
          ]
        }
      ]
    },
    {
      "cell_type": "code",
      "source": [
        "my_mat[0,1] = 2\n",
        "my_mat[1,0] = 40\n",
        "\n",
        "my_mat"
      ],
      "metadata": {
        "colab": {
          "base_uri": "https://localhost:8080/"
        },
        "id": "yWi37jE0t0RL",
        "outputId": "af5a034d-8925-48ea-ad17-dd67874ca783"
      },
      "execution_count": 152,
      "outputs": [
        {
          "output_type": "execute_result",
          "data": {
            "text/plain": [
              "array([[ 1,  2,  3],\n",
              "       [40,  5,  6],\n",
              "       [ 7,  8,  9]])"
            ]
          },
          "metadata": {},
          "execution_count": 152
        }
      ]
    },
    {
      "cell_type": "code",
      "source": [
        "my_mat[2,0] = 70\n",
        "my_mat[2,2] = 90\n",
        "\n",
        "my_mat"
      ],
      "metadata": {
        "colab": {
          "base_uri": "https://localhost:8080/"
        },
        "id": "LD26upiguCkX",
        "outputId": "30115983-f49e-4f86-e23b-39a70c87edd1"
      },
      "execution_count": 153,
      "outputs": [
        {
          "output_type": "execute_result",
          "data": {
            "text/plain": [
              "array([[ 1,  2,  3],\n",
              "       [40,  5,  6],\n",
              "       [70,  8, 90]])"
            ]
          },
          "metadata": {},
          "execution_count": 153
        }
      ]
    },
    {
      "cell_type": "markdown",
      "source": [
        "## Subseting"
      ],
      "metadata": {
        "id": "VJrJ_TulusG4"
      }
    },
    {
      "cell_type": "code",
      "source": [
        "mat = np.array(ri(10,90,15)).reshape(3,5)\n",
        "\n",
        "mat"
      ],
      "metadata": {
        "colab": {
          "base_uri": "https://localhost:8080/"
        },
        "id": "AG5emL_WuSXz",
        "outputId": "72ff9617-ba6d-4f76-cb52-bd2027ba5da3"
      },
      "execution_count": 154,
      "outputs": [
        {
          "output_type": "execute_result",
          "data": {
            "text/plain": [
              "array([[84, 16, 17, 70, 43],\n",
              "       [32, 24, 77, 21, 36],\n",
              "       [25, 23, 25, 12, 74]])"
            ]
          },
          "metadata": {},
          "execution_count": 154
        }
      ]
    },
    {
      "cell_type": "code",
      "source": [
        "mat>50"
      ],
      "metadata": {
        "colab": {
          "base_uri": "https://localhost:8080/"
        },
        "id": "OvGJ1mOFvJ6K",
        "outputId": "55b70c68-60d3-40da-8716-a0b12e7799d4"
      },
      "execution_count": 155,
      "outputs": [
        {
          "output_type": "execute_result",
          "data": {
            "text/plain": [
              "array([[ True, False, False,  True, False],\n",
              "       [False, False,  True, False, False],\n",
              "       [False, False, False, False,  True]])"
            ]
          },
          "metadata": {},
          "execution_count": 155
        }
      ]
    },
    {
      "cell_type": "code",
      "source": [
        "mat[mat>50]"
      ],
      "metadata": {
        "colab": {
          "base_uri": "https://localhost:8080/"
        },
        "id": "lvXvqEO9vOHR",
        "outputId": "16a71b5e-bfb3-4345-ec41-34d13fa67c41"
      },
      "execution_count": 156,
      "outputs": [
        {
          "output_type": "execute_result",
          "data": {
            "text/plain": [
              "array([84, 70, 77, 74])"
            ]
          },
          "metadata": {},
          "execution_count": 156
        }
      ]
    },
    {
      "cell_type": "code",
      "source": [
        "print(np.where(mat == 10))"
      ],
      "metadata": {
        "colab": {
          "base_uri": "https://localhost:8080/"
        },
        "id": "Kxz2vS_9vSDo",
        "outputId": "70f40227-ccdb-4a4c-9f1a-00587dd702e3"
      },
      "execution_count": 157,
      "outputs": [
        {
          "output_type": "stream",
          "name": "stdout",
          "text": [
            "(array([], dtype=int64), array([], dtype=int64))\n"
          ]
        }
      ]
    },
    {
      "cell_type": "code",
      "source": [
        "print(np.where(mat > 40))"
      ],
      "metadata": {
        "colab": {
          "base_uri": "https://localhost:8080/"
        },
        "id": "g66QBQk_vzOL",
        "outputId": "ac8ac022-5de3-495d-f0aa-303524464d4e"
      },
      "execution_count": 158,
      "outputs": [
        {
          "output_type": "stream",
          "name": "stdout",
          "text": [
            "(array([0, 0, 0, 1, 2]), array([0, 3, 4, 2, 4]))\n"
          ]
        }
      ]
    },
    {
      "cell_type": "code",
      "source": [
        "# If want to return number into some text from matrix\n",
        "\n",
        "age = 60\n",
        "\n",
        "np.where(mat > age, \"Retired\", \"Working\")"
      ],
      "metadata": {
        "colab": {
          "base_uri": "https://localhost:8080/"
        },
        "id": "Q10qP_nsv3IV",
        "outputId": "4bd3c119-72e8-48de-c3f2-1353ec30549b"
      },
      "execution_count": 159,
      "outputs": [
        {
          "output_type": "execute_result",
          "data": {
            "text/plain": [
              "array([['Retired', 'Working', 'Working', 'Retired', 'Working'],\n",
              "       ['Working', 'Working', 'Retired', 'Working', 'Working'],\n",
              "       ['Working', 'Working', 'Working', 'Working', 'Retired']],\n",
              "      dtype='<U7')"
            ]
          },
          "metadata": {},
          "execution_count": 159
        }
      ]
    },
    {
      "cell_type": "code",
      "source": [],
      "metadata": {
        "id": "PLy4Z9nKwwBP"
      },
      "execution_count": 159,
      "outputs": []
    },
    {
      "cell_type": "markdown",
      "source": [
        "## Universal Function"
      ],
      "metadata": {
        "id": "DIlCWA-5w02h"
      }
    },
    {
      "cell_type": "code",
      "source": [
        "mat1 = np.array(ri(1,10,9)).reshape(3,3)\n",
        "\n",
        "mat2 = np.array(ri(1,10,9)).reshape(3,3)\n",
        "\n",
        "print(mat1)\n",
        "print(\"**********\")\n",
        "print(mat2)"
      ],
      "metadata": {
        "colab": {
          "base_uri": "https://localhost:8080/"
        },
        "id": "l0TZdlnOw2v2",
        "outputId": "c12b954c-06cf-497c-b611-03683cab30a6"
      },
      "execution_count": 160,
      "outputs": [
        {
          "output_type": "stream",
          "name": "stdout",
          "text": [
            "[[6 3 1]\n",
            " [1 6 7]\n",
            " [3 9 6]]\n",
            "**********\n",
            "[[4 3 7]\n",
            " [6 8 6]\n",
            " [5 7 1]]\n"
          ]
        }
      ]
    },
    {
      "cell_type": "code",
      "source": [
        "print(mat1 + mat2)"
      ],
      "metadata": {
        "colab": {
          "base_uri": "https://localhost:8080/"
        },
        "id": "7CMb-SdIxPe9",
        "outputId": "ac55f4e8-54aa-472e-8cae-be956ffa740b"
      },
      "execution_count": 161,
      "outputs": [
        {
          "output_type": "stream",
          "name": "stdout",
          "text": [
            "[[10  6  8]\n",
            " [ 7 14 13]\n",
            " [ 8 16  7]]\n"
          ]
        }
      ]
    },
    {
      "cell_type": "code",
      "source": [
        "print(mat1 * mat2)"
      ],
      "metadata": {
        "colab": {
          "base_uri": "https://localhost:8080/"
        },
        "id": "_uJv93_XxYdC",
        "outputId": "3aa3ef02-1ddd-4048-8b10-a13dfeddbaf2"
      },
      "execution_count": 162,
      "outputs": [
        {
          "output_type": "stream",
          "name": "stdout",
          "text": [
            "[[24  9  7]\n",
            " [ 6 48 42]\n",
            " [15 63  6]]\n"
          ]
        }
      ]
    },
    {
      "cell_type": "code",
      "source": [],
      "metadata": {
        "id": "QIn4vWmWxal9"
      },
      "execution_count": 162,
      "outputs": []
    },
    {
      "cell_type": "markdown",
      "source": [
        "## Broadcasting"
      ],
      "metadata": {
        "id": "_X-4IykcxeJB"
      }
    },
    {
      "cell_type": "code",
      "source": [
        "start = np.zeros((3,3))\n",
        "\n",
        "start"
      ],
      "metadata": {
        "colab": {
          "base_uri": "https://localhost:8080/"
        },
        "id": "3LrdeixQxhWY",
        "outputId": "7109a705-eb44-4443-f839-d15bab1b024f"
      },
      "execution_count": 163,
      "outputs": [
        {
          "output_type": "execute_result",
          "data": {
            "text/plain": [
              "array([[0., 0., 0.],\n",
              "       [0., 0., 0.],\n",
              "       [0., 0., 0.]])"
            ]
          },
          "metadata": {},
          "execution_count": 163
        }
      ]
    },
    {
      "cell_type": "code",
      "source": [
        "add_rows = np.array([[1,0,2]])\n",
        "\n",
        "print(add_rows)"
      ],
      "metadata": {
        "colab": {
          "base_uri": "https://localhost:8080/"
        },
        "id": "9IYXasgWyzOT",
        "outputId": "2b977a7d-8625-4995-f3a0-37d5833fdae2"
      },
      "execution_count": 164,
      "outputs": [
        {
          "output_type": "stream",
          "name": "stdout",
          "text": [
            "[[1 0 2]]\n"
          ]
        }
      ]
    },
    {
      "cell_type": "code",
      "source": [
        "y = add_rows + start\n",
        "\n",
        "y"
      ],
      "metadata": {
        "colab": {
          "base_uri": "https://localhost:8080/"
        },
        "id": "gsbPfJEmy-BH",
        "outputId": "9f400e2a-02f4-4247-98ea-83ad9b66a96c"
      },
      "execution_count": 165,
      "outputs": [
        {
          "output_type": "execute_result",
          "data": {
            "text/plain": [
              "array([[1., 0., 2.],\n",
              "       [1., 0., 2.],\n",
              "       [1., 0., 2.]])"
            ]
          },
          "metadata": {},
          "execution_count": 165
        }
      ]
    },
    {
      "cell_type": "code",
      "source": [
        "new_row = add_rows.T\n",
        "new_row"
      ],
      "metadata": {
        "colab": {
          "base_uri": "https://localhost:8080/"
        },
        "id": "V_kH3omszDe-",
        "outputId": "5050bd4f-7614-4215-d3aa-5917cc5a1f90"
      },
      "execution_count": 166,
      "outputs": [
        {
          "output_type": "execute_result",
          "data": {
            "text/plain": [
              "array([[1],\n",
              "       [0],\n",
              "       [2]])"
            ]
          },
          "metadata": {},
          "execution_count": 166
        }
      ]
    },
    {
      "cell_type": "code",
      "source": [
        "z = new_row + start\n",
        "\n",
        "z"
      ],
      "metadata": {
        "colab": {
          "base_uri": "https://localhost:8080/"
        },
        "id": "sjGrJ4Y2zJU8",
        "outputId": "188d188e-5944-4275-dc3b-fde7a388b3e1"
      },
      "execution_count": 167,
      "outputs": [
        {
          "output_type": "execute_result",
          "data": {
            "text/plain": [
              "array([[1., 1., 1.],\n",
              "       [0., 0., 0.],\n",
              "       [2., 2., 2.]])"
            ]
          },
          "metadata": {},
          "execution_count": 167
        }
      ]
    },
    {
      "cell_type": "code",
      "source": [],
      "metadata": {
        "id": "vOXZnpWMzOII"
      },
      "execution_count": 167,
      "outputs": []
    },
    {
      "cell_type": "markdown",
      "source": [
        "## Array Math"
      ],
      "metadata": {
        "id": "nE6RjAQUzrX5"
      }
    },
    {
      "cell_type": "code",
      "source": [
        "print(mat1)\n",
        "print(\"***********\")\n",
        "print(mat2)"
      ],
      "metadata": {
        "colab": {
          "base_uri": "https://localhost:8080/"
        },
        "id": "djUZsG3Ozs8_",
        "outputId": "47df314c-a596-4496-df84-ab709501d74d"
      },
      "execution_count": 168,
      "outputs": [
        {
          "output_type": "stream",
          "name": "stdout",
          "text": [
            "[[6 3 1]\n",
            " [1 6 7]\n",
            " [3 9 6]]\n",
            "***********\n",
            "[[4 3 7]\n",
            " [6 8 6]\n",
            " [5 7 1]]\n"
          ]
        }
      ]
    },
    {
      "cell_type": "code",
      "source": [
        "np.sqrt(mat1)"
      ],
      "metadata": {
        "colab": {
          "base_uri": "https://localhost:8080/"
        },
        "id": "42js-3sVzyPA",
        "outputId": "f8062131-6345-41f8-d0c6-e48b066365d3"
      },
      "execution_count": 169,
      "outputs": [
        {
          "output_type": "execute_result",
          "data": {
            "text/plain": [
              "array([[2.44948974, 1.73205081, 1.        ],\n",
              "       [1.        , 2.44948974, 2.64575131],\n",
              "       [1.73205081, 3.        , 2.44948974]])"
            ]
          },
          "metadata": {},
          "execution_count": 169
        }
      ]
    },
    {
      "cell_type": "code",
      "source": [
        "np.square(mat2)"
      ],
      "metadata": {
        "colab": {
          "base_uri": "https://localhost:8080/"
        },
        "id": "bcG6hyJH1JMr",
        "outputId": "adf135d3-9b15-4086-8205-ad89dd579b7b"
      },
      "execution_count": 170,
      "outputs": [
        {
          "output_type": "execute_result",
          "data": {
            "text/plain": [
              "array([[16,  9, 49],\n",
              "       [36, 64, 36],\n",
              "       [25, 49,  1]])"
            ]
          },
          "metadata": {},
          "execution_count": 170
        }
      ]
    },
    {
      "cell_type": "code",
      "source": [],
      "metadata": {
        "id": "XojJuB_E1MMk"
      },
      "execution_count": 170,
      "outputs": []
    },
    {
      "cell_type": "markdown",
      "source": [
        "## Similarly other functions can be applied to matrix"
      ],
      "metadata": {
        "id": "nNQ8Fsf21ORP"
      }
    },
    {
      "cell_type": "code",
      "source": [],
      "metadata": {
        "id": "0PlgJbUW1TQI"
      },
      "execution_count": 170,
      "outputs": []
    }
  ]
}